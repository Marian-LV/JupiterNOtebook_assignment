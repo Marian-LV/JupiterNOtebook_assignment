{
 "cells": [
  {
   "cell_type": "markdown",
   "id": "5b9fe7f9-f203-49b5-b71b-ef61ebe26680",
   "metadata": {},
   "source": [
    "# Data Science Tools and Ecosystem"
   ]
  },
  {
   "cell_type": "markdown",
   "id": "54683a2d-4b2e-42f7-9b5f-d8c86ecfcabb",
   "metadata": {},
   "source": [
    "#In this notebook, Data Science Tools and Ecosystem are summarize.#"
   ]
  },
  {
   "cell_type": "markdown",
   "id": "4e4d94d3-f0fb-45f9-a093-8ec0f9d767b9",
   "metadata": {},
   "source": [
    "\"**Objectives:**\n",
    "- Python\n",
    "- R\n",
    "- SQL"
   ]
  },
  {
   "cell_type": "markdown",
   "id": "4681d711-812c-4fe8-92ab-2a1b0086436c",
   "metadata": {},
   "source": [
    "#Some of the popular languages Data Scientist used are:#"
   ]
  },
  {
   "cell_type": "markdown",
   "id": "514f9002-ba3a-48dd-804b-774bfcadb8f3",
   "metadata": {},
   "source": [
    "1. Phyton\n",
    "2. R\n",
    "3. C++"
   ]
  },
  {
   "cell_type": "markdown",
   "id": "da9d51d1-ad05-4566-bb92-0349e77fcd9f",
   "metadata": {},
   "source": [
    "Some of the commonly used libraries used by Data Scientists include:"
   ]
  },
  {
   "cell_type": "markdown",
   "id": "4fce3a31-ae9d-4bac-bd8a-a40a54d9ec0d",
   "metadata": {},
   "source": [
    "1. Plotly\n",
    "2. Numby\n",
    "3. Pandas\n",
    "4. GGplot2"
   ]
  },
  {
   "cell_type": "markdown",
   "id": "4bd90c8d-8b59-473c-8571-fae4638244e7",
   "metadata": {},
   "source": [
    "|Data Science Tools|\n",
    "|------------------|\n",
    "|Rstudio|\n",
    "|Jupiter Notebook|\n",
    "|Apache Spark|"
   ]
  },
  {
   "cell_type": "markdown",
   "id": "2b0260cd-3eb6-4b31-bf71-7eb71abf33c2",
   "metadata": {},
   "source": [
    " \"# Data Science Tools and Ecosystem\""
   ]
  },
  {
   "cell_type": "markdown",
   "id": "8ff09d58-d6f0-4454-9142-da37e001e6da",
   "metadata": {},
   "source": [
    "\"Data Science Tools and Ecosystem\""
   ]
  },
  {
   "cell_type": "markdown",
   "id": "392d3492-a21c-446e-ada7-09fcc1317bd5",
   "metadata": {},
   "source": [
    "# \"Data Science Tools and Ecosystem\""
   ]
  },
  {
   "cell_type": "markdown",
   "id": "71c2fafc-ad88-45e7-9a00-c495d6a544ed",
   "metadata": {},
   "source": [
    "### \"Below are a few examples of evaluating arithmetic expressions in Python\""
   ]
  },
  {
   "cell_type": "code",
   "execution_count": 9,
   "id": "13651b37-6bb0-4a8d-a544-e78499abdbe7",
   "metadata": {},
   "outputs": [],
   "source": [
    "#This a simple arithmetic expression to mutiply then add integers#"
   ]
  },
  {
   "cell_type": "code",
   "execution_count": 10,
   "id": "3ce74572-b582-40e6-ad5a-4dd45ffabbc3",
   "metadata": {},
   "outputs": [
    {
     "data": {
      "text/plain": [
       "17"
      ]
     },
     "execution_count": 10,
     "metadata": {},
     "output_type": "execute_result"
    }
   ],
   "source": [
    "(3*4)+5"
   ]
  },
  {
   "cell_type": "code",
   "execution_count": 11,
   "id": "9b0a3a55-ced7-44b8-bcab-eaa5fb141fe5",
   "metadata": {},
   "outputs": [],
   "source": [
    "#This will convert 200 minutes to hours by diving by 60#"
   ]
  },
  {
   "cell_type": "code",
   "execution_count": 12,
   "id": "141a8b8e-251c-43fb-8fa0-854e7cad760f",
   "metadata": {},
   "outputs": [
    {
     "data": {
      "text/plain": [
       "3.3333333333333335"
      ]
     },
     "execution_count": 12,
     "metadata": {},
     "output_type": "execute_result"
    }
   ],
   "source": [
    "200/60"
   ]
  },
  {
   "cell_type": "markdown",
   "id": "51d4afe5-672c-472a-9737-3d4f86b89a93",
   "metadata": {},
   "source": [
    "## Author\n",
    "María de los Ángeles López Valdepérez"
   ]
  },
  {
   "cell_type": "code",
   "execution_count": null,
   "id": "a4907cc7-4394-404e-bc40-5a7efbc886bb",
   "metadata": {},
   "outputs": [],
   "source": []
  }
 ],
 "metadata": {
  "kernelspec": {
   "display_name": "Python 3 (ipykernel)",
   "language": "python",
   "name": "python3"
  },
  "language_info": {
   "codemirror_mode": {
    "name": "ipython",
    "version": 3
   },
   "file_extension": ".py",
   "mimetype": "text/x-python",
   "name": "python",
   "nbconvert_exporter": "python",
   "pygments_lexer": "ipython3",
   "version": "3.12.8"
  }
 },
 "nbformat": 4,
 "nbformat_minor": 5
}
